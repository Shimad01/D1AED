{
 "cells": [
  {
   "cell_type": "markdown",
   "id": "4bb6aef6",
   "metadata": {},
   "source": [
    "# D1AED - Análise Estatística para Ciência de Dados\n",
    "\n",
    "- Professores [Samuel Botter Martins](https://lattes.cnpq.br/8252944637606624) e [Ricardo Barz Sovat](https://lattes.cnpq.br/0404624792247041)\n",
    "- Email [samuel.martins@ifsp.edu.br](mailto:samuel.martins@ifsp.edu.br) e [sovat@ifsp.edu.br](mailto:sovat@ifsp.edu.br)\n",
    "- Horário de atendimento: [Samuel: quinta, 17:00 às 19:00](https://teams.microsoft.com/l/meetup-join/19%3ameeting_MjRlYmQxNDYtNDc2OS00Nzg2LTg2NDYtZThmMmQzYzcwMTQ0%40thread.v2/0?context=%7b%22Tid%22%3a%2291808bd0-5c6a-49df-93df-fb6a740f594d%22%2c%22Oid%22%3a%22f8f09c98-71f0-450b-b670-36841d96801a%22%7d)\n",
    "- Rótulo para Assunto do E-mail: `[D1AED]`\n",
    "- Microsoft Teams: [Link para equipe](https://teams.microsoft.com/l/team/19%3ae13d4ddeeeb442538f119357449209bd%40thread.tacv2/conversations?groupId=8ac828f4-3150-4b02-94ee-4dd83919207c&tenantId=91808bd0-5c6a-49df-93df-fb6a740f594d) (Código: y2myiih) | [Link das aulas](https://teams.microsoft.com/l/meetup-join/19%3ae13d4ddeeeb442538f119357449209bd%40thread.tacv2/1619094087947?context=%7b%22Tid%22%3a%2291808bd0-5c6a-49df-93df-fb6a740f594d%22%2c%22Oid%22%3a%22f8f09c98-71f0-450b-b670-36841d96801a%22%7d)\n",
    "- Repositório de Códigos: [https://github.com/xavecoding/IFSP-CMP-D1AED-2021.1](https://github.com/xavecoding/IFSP-CMP-D1AED-2021.1)\n",
    "- Pré-requisito: [Curso Python Essencial para Data Science](https://www.youtube.com/playlist?list=PL3ZslI15yo2qCEmnYOa2sq6VQOzQ2CFhj) | [Curso Pandas Essencial](https://www.youtube.com/playlist?list=PL3ZslI15yo2pfkf7EGNR14xTwe-wZ2bNX)"
   ]
  },
  {
   "cell_type": "markdown",
   "id": "6672423e",
   "metadata": {},
   "source": [
    "## 22/04/2021 - Aula 00 e 01: Apresentação da Disciplina e Manipulação de Dados\n",
    "\n",
    "### Materiais de aula\n",
    "\n",
    "- [Vídeo: Gravação da aula](https://ifspedubr.sharepoint.com/:v:/s/D1AED2021.1-AnliseEstatsticaparaCinciadeDados/EZICNjXoOOZAj9vMo4TdHHsB0YVRr4wyC0_CYmK4ZeVCXQ?e=3kFsIu)\n",
    "- [Slides: Apresentação da Disciplina](slides/20210422-D1AED-aula00-apresentacao_da_disciplina.pdf)\n",
    "- [Slides: Instalando o Ambiente](slides/20210422-D1AED-aula01-00-instalando_o_ambiente.pdf)\n",
    "- [Slides: Manipulação de Dados](slides/20210422-D1AED-aula01-01-manipulacao_de_dados.pdf)\n",
    "- [Artigo: 50 years of Data Science](recursos/20210422-aula01/50_Years_of_Data_Science.pdf)\n",
    "- [Código base](https://github.com/xavecoding/IFSP-CMP-D1AED-2021.1/blob/main/manipulacao_de_dados/manipulacao_de_dados_codigo_base.ipynb)"
   ]
  },
  {
   "cell_type": "markdown",
   "id": "def519ea",
   "metadata": {},
   "source": [
    "### Apresentação\n",
    "\n",
    "- Objetivo é uma abordagem prática da estatística, para Análise Exploratória e Aprendizado de de máquina. Sem muita demostração e/ou formalidade.\n",
    "- Bastante ênfase em **Regressão**\n",
    "\n",
    "#### Presença\n",
    "\n",
    "- Atividades via moodle, a ser entregue até o início da aula subsequente\n",
    "\n",
    "#### Avaliação\n",
    "\n",
    "$$\n",
    "\\mathbf{NF} = 0.2*T_1 + 0.25*T_2 + 0.5*P + 0.05*Q\n",
    "$$\n",
    "\n",
    "$\\mathbf{T_1}$: Primeira Tarefa\n",
    "\n",
    "$\\mathbf{T_2}$: Segunda Tarefa\n",
    "\n",
    "$\\mathbf{P}$: Nota do Projeto Interdisciplinar em Grupo\n",
    "\n",
    "$\\mathbf{Q}$:Atividades/questões semanais\n",
    "\n",
    "#### Aprovação\n",
    "\n",
    "$$\n",
    "\\textrm{NF} \\geq 6\n",
    "$$\n",
    "\n",
    "$$\n",
    "\\textrm{Freq} \\geq 75\\%\n",
    "$$\n",
    "\n",
    "#### Projeto interdisciplinar\n",
    "\n",
    "- Feito em até 3 pessoas. Parte da nota do grupo e parte individual\n",
    "- Consiste em duas partes: Análise exploratória e Machile Learning\n",
    "- Na verdade, o objetivo é passar por todo o *pipeline* de ciência de dados\n",
    "\n",
    "#### Material Complementar\n",
    "\n",
    "- Pythons e Pandas são base e devem ser buscados por conta do aluno.\n",
    "- Sugestão dos cursos oferecidos pelo próprio professor Samuel ([canal no youtube](https://www.youtube.com/c/xavecoding))"
   ]
  },
  {
   "cell_type": "markdown",
   "id": "d850939a",
   "metadata": {},
   "source": [
    "### Análise Exploratória de Dados\n",
    "\n",
    "- A partir da Análise Exploratória (exploração, pré-processamento e modelagem), existe a possibilidade de partir direto para apresentação (pulando etapas de ML e validação)\n",
    "- Ciência de Dados não existe apenas com IA/ML. Modelos estatísticos podem ser, muitas vezes, suficientes para produzir Ciência de Dados.\n",
    "  - IA/ML é uma parte importante e muito poderosa, mas não é tudo\n",
    "- Indicação de artigo [50 Years of Data Science](https://doi.org/10.1080/10618600.2017.1384734)\n",
    "- Dados estruturados e não estruturados podem ser usados juntos para análise e produção de modelos. Por exemplo: análise diagnóstica a partir de imagens (não estruturado) + dados tabulares"
   ]
  }
 ],
 "metadata": {
  "kernelspec": {
   "display_name": "Python 3",
   "language": "python",
   "name": "python3"
  },
  "language_info": {
   "codemirror_mode": {
    "name": "ipython",
    "version": 3
   },
   "file_extension": ".py",
   "mimetype": "text/x-python",
   "name": "python",
   "nbconvert_exporter": "python",
   "pygments_lexer": "ipython3",
   "version": "3.8.8"
  }
 },
 "nbformat": 4,
 "nbformat_minor": 5
}
